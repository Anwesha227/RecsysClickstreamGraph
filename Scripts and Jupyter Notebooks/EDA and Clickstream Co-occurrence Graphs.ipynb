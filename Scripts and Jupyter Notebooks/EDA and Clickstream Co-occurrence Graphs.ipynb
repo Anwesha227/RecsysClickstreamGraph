{
 "cells": [
  {
   "cell_type": "markdown",
   "id": "d6ea73e5",
   "metadata": {},
   "source": [
    "#### Importing Necessary Libraries"
   ]
  },
  {
   "cell_type": "code",
   "execution_count": 1,
   "id": "c8592e2b",
   "metadata": {},
   "outputs": [],
   "source": [
    "import pandas as pd\n",
    "import numpy as np\n",
    "import seaborn as sns\n",
    "import matplotlib.pyplot as plt\n",
    "import networkx as nx"
   ]
  },
  {
   "cell_type": "code",
   "execution_count": 2,
   "id": "c68f8997",
   "metadata": {},
   "outputs": [],
   "source": [
    "clickstream_df = pd.read_parquet('../Data/clickstream_data.parquet.gzip')"
   ]
  },
  {
   "cell_type": "code",
   "execution_count": 3,
   "id": "6fad5117",
   "metadata": {},
   "outputs": [
    {
     "name": "stdout",
     "output_type": "stream",
     "text": [
      "<class 'pandas.core.frame.DataFrame'>\n",
      "RangeIndex: 55967041 entries, 0 to 55967040\n",
      "Data columns (total 9 columns):\n",
      " #   Column         Dtype   \n",
      "---  ------         -----   \n",
      " 0   event_time     object  \n",
      " 1   event_type     category\n",
      " 2   product_id     int32   \n",
      " 3   category_id    int64   \n",
      " 4   category_code  object  \n",
      " 5   brand          object  \n",
      " 6   price          float32 \n",
      " 7   user_id        int32   \n",
      " 8   user_session   object  \n",
      "dtypes: category(1), float32(1), int32(2), int64(1), object(4)\n",
      "memory usage: 2.8+ GB\n"
     ]
    }
   ],
   "source": [
    "clickstream_df.info()"
   ]
  },
  {
   "cell_type": "code",
   "execution_count": 4,
   "id": "e560e694",
   "metadata": {},
   "outputs": [
    {
     "data": {
      "text/html": [
       "<div>\n",
       "<style scoped>\n",
       "    .dataframe tbody tr th:only-of-type {\n",
       "        vertical-align: middle;\n",
       "    }\n",
       "\n",
       "    .dataframe tbody tr th {\n",
       "        vertical-align: top;\n",
       "    }\n",
       "\n",
       "    .dataframe thead th {\n",
       "        text-align: right;\n",
       "    }\n",
       "</style>\n",
       "<table border=\"1\" class=\"dataframe\">\n",
       "  <thead>\n",
       "    <tr style=\"text-align: right;\">\n",
       "      <th></th>\n",
       "      <th>event_time</th>\n",
       "      <th>event_type</th>\n",
       "      <th>product_id</th>\n",
       "      <th>category_id</th>\n",
       "      <th>category_code</th>\n",
       "      <th>brand</th>\n",
       "      <th>price</th>\n",
       "      <th>user_id</th>\n",
       "      <th>user_session</th>\n",
       "    </tr>\n",
       "  </thead>\n",
       "  <tbody>\n",
       "    <tr>\n",
       "      <th>0</th>\n",
       "      <td>2020-01-01 00:00:00 UTC</td>\n",
       "      <td>view</td>\n",
       "      <td>1005073</td>\n",
       "      <td>2232732093077520756</td>\n",
       "      <td>construction.tools.light</td>\n",
       "      <td>samsung</td>\n",
       "      <td>1130.020020</td>\n",
       "      <td>519698804</td>\n",
       "      <td>69b5d72f-fd6e-4fed-aa23-1286b2ca89a0</td>\n",
       "    </tr>\n",
       "    <tr>\n",
       "      <th>1</th>\n",
       "      <td>2020-01-01 00:00:01 UTC</td>\n",
       "      <td>view</td>\n",
       "      <td>1005192</td>\n",
       "      <td>2232732093077520756</td>\n",
       "      <td>construction.tools.light</td>\n",
       "      <td>meizu</td>\n",
       "      <td>205.669998</td>\n",
       "      <td>527767423</td>\n",
       "      <td>7f596032-ccbf-4643-9bad-e36a209512b4</td>\n",
       "    </tr>\n",
       "    <tr>\n",
       "      <th>2</th>\n",
       "      <td>2020-01-01 00:00:01 UTC</td>\n",
       "      <td>view</td>\n",
       "      <td>100063693</td>\n",
       "      <td>2053013552427434207</td>\n",
       "      <td>apparel.shirt</td>\n",
       "      <td>turtle</td>\n",
       "      <td>136.429993</td>\n",
       "      <td>519046195</td>\n",
       "      <td>d1e2f343-84bb-49bd-b13d-ca0f1ed9910e</td>\n",
       "    </tr>\n",
       "    <tr>\n",
       "      <th>3</th>\n",
       "      <td>2020-01-01 00:00:01 UTC</td>\n",
       "      <td>view</td>\n",
       "      <td>5100816</td>\n",
       "      <td>2232732103831716449</td>\n",
       "      <td>apparel.shoes</td>\n",
       "      <td>xiaomi</td>\n",
       "      <td>29.950001</td>\n",
       "      <td>518269232</td>\n",
       "      <td>0444841c-38ef-410c-b11f-7b35ea4e5991</td>\n",
       "    </tr>\n",
       "    <tr>\n",
       "      <th>4</th>\n",
       "      <td>2020-01-01 00:00:02 UTC</td>\n",
       "      <td>view</td>\n",
       "      <td>100014325</td>\n",
       "      <td>2232732103294845523</td>\n",
       "      <td>apparel.shoes.step_ins</td>\n",
       "      <td>intel</td>\n",
       "      <td>167.199997</td>\n",
       "      <td>587748686</td>\n",
       "      <td>31b7d4cf-dfac-4895-9927-90fa3254f860</td>\n",
       "    </tr>\n",
       "  </tbody>\n",
       "</table>\n",
       "</div>"
      ],
      "text/plain": [
       "                event_time event_type  product_id          category_id  \\\n",
       "0  2020-01-01 00:00:00 UTC       view     1005073  2232732093077520756   \n",
       "1  2020-01-01 00:00:01 UTC       view     1005192  2232732093077520756   \n",
       "2  2020-01-01 00:00:01 UTC       view   100063693  2053013552427434207   \n",
       "3  2020-01-01 00:00:01 UTC       view     5100816  2232732103831716449   \n",
       "4  2020-01-01 00:00:02 UTC       view   100014325  2232732103294845523   \n",
       "\n",
       "              category_code    brand        price    user_id  \\\n",
       "0  construction.tools.light  samsung  1130.020020  519698804   \n",
       "1  construction.tools.light    meizu   205.669998  527767423   \n",
       "2             apparel.shirt   turtle   136.429993  519046195   \n",
       "3             apparel.shoes   xiaomi    29.950001  518269232   \n",
       "4    apparel.shoes.step_ins    intel   167.199997  587748686   \n",
       "\n",
       "                           user_session  \n",
       "0  69b5d72f-fd6e-4fed-aa23-1286b2ca89a0  \n",
       "1  7f596032-ccbf-4643-9bad-e36a209512b4  \n",
       "2  d1e2f343-84bb-49bd-b13d-ca0f1ed9910e  \n",
       "3  0444841c-38ef-410c-b11f-7b35ea4e5991  \n",
       "4  31b7d4cf-dfac-4895-9927-90fa3254f860  "
      ]
     },
     "execution_count": 4,
     "metadata": {},
     "output_type": "execute_result"
    }
   ],
   "source": [
    "clickstream_df.head()"
   ]
  },
  {
   "cell_type": "markdown",
   "id": "b197ff9f",
   "metadata": {},
   "source": [
    "## Exploratory Data Analysis\n",
    "\n",
    "First we will perform some basic data analysis and then we will move on to the construction of our clickstream graphs. "
   ]
  },
  {
   "cell_type": "markdown",
   "id": "2953b978",
   "metadata": {},
   "source": [
    "### Number of Events of Each Type"
   ]
  },
  {
   "cell_type": "code",
   "execution_count": 5,
   "id": "10010016",
   "metadata": {},
   "outputs": [
    {
     "data": {
      "text/plain": [
       "view        52490785\n",
       "cart         2641249\n",
       "purchase      835007\n",
       "Name: event_type, dtype: int64"
      ]
     },
     "execution_count": 5,
     "metadata": {},
     "output_type": "execute_result"
    }
   ],
   "source": [
    "clickstream_df['event_type'].value_counts()"
   ]
  },
  {
   "cell_type": "code",
   "execution_count": 6,
   "id": "8a30261f",
   "metadata": {},
   "outputs": [
    {
     "data": {
      "image/png": "[encoded data removed]",
      "text/plain": [
       "<Figure size 640x480 with 1 Axes>"
      ]
     },
     "metadata": {},
     "output_type": "display_data"
    }
   ],
   "source": [
    "sns.countplot(x = clickstream_df['event_type'])\n",
    "plt.show()"
   ]
  },
  {
   "cell_type": "markdown",
   "id": "5b62d63f",
   "metadata": {},
   "source": [
    "So, most of our events are views. There are :\n",
    "\n",
    "    - Around 52.5 million views\n",
    "    - Around 2.6 million add-to-cart events\n",
    "    - Around 835K purchases\n",
    "\n",
    "We could focus on just views for our analysis or could also look at all the three different events. "
   ]
  },
  {
   "cell_type": "markdown",
   "id": "1e1b4092",
   "metadata": {},
   "source": [
    "### Number of Distinct Products, Users and Sessions Across Event Types"
   ]
  },
  {
   "cell_type": "code",
   "execution_count": 7,
   "id": "2b72c498",
   "metadata": {},
   "outputs": [
    {
     "data": {
      "text/html": [
       "<div>\n",
       "<style scoped>\n",
       "    .dataframe tbody tr th:only-of-type {\n",
       "        vertical-align: middle;\n",
       "    }\n",
       "\n",
       "    .dataframe tbody tr th {\n",
       "        vertical-align: top;\n",
       "    }\n",
       "\n",
       "    .dataframe thead th {\n",
       "        text-align: right;\n",
       "    }\n",
       "</style>\n",
       "<table border=\"1\" class=\"dataframe\">\n",
       "  <thead>\n",
       "    <tr style=\"text-align: right;\">\n",
       "      <th></th>\n",
       "      <th>event_type</th>\n",
       "      <th>product_id</th>\n",
       "      <th>user_id</th>\n",
       "      <th>user_session</th>\n",
       "    </tr>\n",
       "  </thead>\n",
       "  <tbody>\n",
       "    <tr>\n",
       "      <th>0</th>\n",
       "      <td>cart</td>\n",
       "      <td>86993</td>\n",
       "      <td>740737</td>\n",
       "      <td>1543484</td>\n",
       "    </tr>\n",
       "    <tr>\n",
       "      <th>1</th>\n",
       "      <td>purchase</td>\n",
       "      <td>46951</td>\n",
       "      <td>359105</td>\n",
       "      <td>690930</td>\n",
       "    </tr>\n",
       "    <tr>\n",
       "      <th>2</th>\n",
       "      <td>view</td>\n",
       "      <td>226209</td>\n",
       "      <td>4383932</td>\n",
       "      <td>13757026</td>\n",
       "    </tr>\n",
       "  </tbody>\n",
       "</table>\n",
       "</div>"
      ],
      "text/plain": [
       "  event_type  product_id  user_id  user_session\n",
       "0       cart       86993   740737       1543484\n",
       "1   purchase       46951   359105        690930\n",
       "2       view      226209  4383932      13757026"
      ]
     },
     "execution_count": 7,
     "metadata": {},
     "output_type": "execute_result"
    }
   ],
   "source": [
    "df = clickstream_df.groupby(['event_type'])[['product_id','user_id','user_session']].nunique().reset_index()\n",
    "df"
   ]
  },
  {
   "cell_type": "code",
   "execution_count": 8,
   "id": "521967c1",
   "metadata": {},
   "outputs": [
    {
     "data": {
      "image/png": "[encoded data removed]",
      "text/plain": [
       "<Figure size 640x480 with 1 Axes>"
      ]
     },
     "metadata": {},
     "output_type": "display_data"
    }
   ],
   "source": [
    "x = np.arange(3)\n",
    "products = df['product_id']\n",
    "users = df['user_id']\n",
    "sessions = df['user_session']\n",
    "width = 0.2\n",
    "  \n",
    "# Plotting grouped bar charts\n",
    "plt.bar(x - 0.2, products, width, color='cyan')\n",
    "plt.bar(x, users, width, color='orange')\n",
    "plt.bar(x + 0.2, sessions, width, color='green')\n",
    "plt.xticks(x, ['cart', 'purchase', 'view'])\n",
    "plt.xlabel(\"Event\")\n",
    "plt.ylabel(\"Count of Unique\")\n",
    "plt.legend([\"products\", \"users\", \"sessions\"])\n",
    "plt.show()"
   ]
  },
  {
   "cell_type": "markdown",
   "id": "3c9ef43a",
   "metadata": {},
   "source": [
    "So we see that for views, we have a lot of unique sessions as compared to unique users or products. For purchases and add to car events, the difference is less stark. It would seem that users who only intend to view the products, do so over several sessions and are not quite determined to buy unlike the users who have purchased. Perhaps, this is indicative of 'window shopping'. "
   ]
  },
  {
   "cell_type": "markdown",
   "id": "b90e8d75",
   "metadata": {},
   "source": [
    "### Checking for NULL values"
   ]
  },
  {
   "cell_type": "code",
   "execution_count": 9,
   "id": "14619377",
   "metadata": {},
   "outputs": [
    {
     "data": {
      "text/plain": [
       "event_time             0\n",
       "event_type             0\n",
       "product_id             0\n",
       "category_id            0\n",
       "category_code    5044890\n",
       "brand            6540255\n",
       "price                  0\n",
       "user_id                0\n",
       "user_session          19\n",
       "dtype: int64"
      ]
     },
     "execution_count": 9,
     "metadata": {},
     "output_type": "execute_result"
    }
   ],
   "source": [
    "clickstream_df.isna().sum()"
   ]
  },
  {
   "cell_type": "markdown",
   "id": "342474a3",
   "metadata": {},
   "source": [
    "So, thankfully it seems that we do not have any null sessions, that is, any sessions where user_id, product_id is NULL.However, we do seem to have some sessions where the session_id (user_session) is NULL. Let us look at these distributions based on event type."
   ]
  },
  {
   "cell_type": "code",
   "execution_count": 10,
   "id": "7e9303e9",
   "metadata": {},
   "outputs": [
    {
     "data": {
      "text/plain": [
       "event_time             0\n",
       "event_type             0\n",
       "product_id             0\n",
       "category_id            0\n",
       "category_code    4794127\n",
       "brand            6283941\n",
       "price                  0\n",
       "user_id                0\n",
       "user_session           0\n",
       "dtype: int64"
      ]
     },
     "execution_count": 10,
     "metadata": {},
     "output_type": "execute_result"
    }
   ],
   "source": [
    "clickstream_df[clickstream_df['event_type']=='view'].isna().sum()"
   ]
  },
  {
   "cell_type": "code",
   "execution_count": 11,
   "id": "f662e8c6",
   "metadata": {},
   "outputs": [
    {
     "data": {
      "text/plain": [
       "event_time            0\n",
       "event_type            0\n",
       "product_id            0\n",
       "category_id           0\n",
       "category_code    201380\n",
       "brand            204055\n",
       "price                 0\n",
       "user_id               0\n",
       "user_session         19\n",
       "dtype: int64"
      ]
     },
     "execution_count": 11,
     "metadata": {},
     "output_type": "execute_result"
    }
   ],
   "source": [
    "clickstream_df[clickstream_df['event_type']=='cart'].isna().sum()"
   ]
  },
  {
   "cell_type": "code",
   "execution_count": 12,
   "id": "6f5f969e",
   "metadata": {
    "scrolled": true
   },
   "outputs": [
    {
     "data": {
      "text/plain": [
       "event_time           0\n",
       "event_type           0\n",
       "product_id           0\n",
       "category_id          0\n",
       "category_code    49383\n",
       "brand            52259\n",
       "price                0\n",
       "user_id              0\n",
       "user_session         0\n",
       "dtype: int64"
      ]
     },
     "execution_count": 12,
     "metadata": {},
     "output_type": "execute_result"
    }
   ],
   "source": [
    "clickstream_df[clickstream_df['event_type']=='purchase'].isna().sum()"
   ]
  },
  {
   "cell_type": "markdown",
   "id": "af2aff4f",
   "metadata": {},
   "source": [
    "So we see that the 19 NULL values in user_session appear for the 'cart' event type. We will simply drop those entries. "
   ]
  },
  {
   "cell_type": "code",
   "execution_count": 13,
   "id": "c2ff5d61",
   "metadata": {},
   "outputs": [],
   "source": [
    "clickstream_df.dropna(subset=['user_session'], axis=0, inplace=True)"
   ]
  },
  {
   "cell_type": "markdown",
   "id": "1b256cb6",
   "metadata": {},
   "source": [
    "### Distribution of  Number of Unique Events per Session "
   ]
  },
  {
   "cell_type": "markdown",
   "id": "dfcf11dd",
   "metadata": {},
   "source": [
    "#### Distribution of unique product views per session"
   ]
  },
  {
   "cell_type": "code",
   "execution_count": 14,
   "id": "ca49e5f0",
   "metadata": {},
   "outputs": [
    {
     "name": "stdout",
     "output_type": "stream",
     "text": [
      "2.6224088694751324\n",
      "1.0\n"
     ]
    }
   ],
   "source": [
    "views_per_sess = clickstream_df[clickstream_df['event_type']=='view'].groupby(['user_session'])[['product_id']].nunique()\n",
    "print(views_per_sess['product_id'].mean())\n",
    "print(views_per_sess['product_id'].median())"
   ]
  },
  {
   "cell_type": "code",
   "execution_count": 15,
   "id": "cd075f8c",
   "metadata": {},
   "outputs": [
    {
     "data": {
      "image/png": "[encoded data removed]",
      "text/plain": [
       "<Figure size 640x480 with 1 Axes>"
      ]
     },
     "metadata": {},
     "output_type": "display_data"
    }
   ],
   "source": [
    "sns.histplot(views_per_sess[views_per_sess['product_id']<10]['product_id'], binwidth = 1)\n",
    "plt.xlabel(\"Number of Product Views (NView)\")\n",
    "plt.ylabel(\"Count of Number of Sessions with NView\")\n",
    "plt.show()"
   ]
  },
  {
   "cell_type": "markdown",
   "id": "fe8aa1e4",
   "metadata": {},
   "source": [
    " - So we see that the average number of product views per session is between 2 and 3.\n",
    " - The median number of product views per session is 1.\n",
    " - From the histogram as well, we can see that the maximum number of views per session is concentrated between 1 and 4."
   ]
  },
  {
   "cell_type": "markdown",
   "id": "d5a60cb7",
   "metadata": {},
   "source": [
    "#### Distribution of unique product cart additions per session"
   ]
  },
  {
   "cell_type": "code",
   "execution_count": 16,
   "id": "a8b6fb2b",
   "metadata": {},
   "outputs": [
    {
     "name": "stdout",
     "output_type": "stream",
     "text": [
      "1.152015181239326\n",
      "1.0\n"
     ]
    }
   ],
   "source": [
    "cart_per_sess = clickstream_df[clickstream_df['event_type']=='cart'].groupby(['user_session'])[['product_id']].nunique()\n",
    "print(cart_per_sess['product_id'].mean())\n",
    "print(cart_per_sess['product_id'].median())"
   ]
  },
  {
   "cell_type": "code",
   "execution_count": 17,
   "id": "3118a088",
   "metadata": {},
   "outputs": [
    {
     "data": {
      "image/png": "[encoded data removed]",
      "text/plain": [
       "<Figure size 640x480 with 1 Axes>"
      ]
     },
     "metadata": {},
     "output_type": "display_data"
    }
   ],
   "source": [
    "sns.histplot(cart_per_sess[cart_per_sess['product_id']<10]['product_id'], binwidth = 1)\n",
    "plt.xlabel(\"Number of Product Cart Additions (NCartAddtition)\")\n",
    "plt.ylabel(\"Count of Number of Sessions with NCartAddtition\")\n",
    "plt.show()"
   ]
  },
  {
   "cell_type": "markdown",
   "id": "1538bcd8",
   "metadata": {},
   "source": [
    " - So we see that the average number of product cart additions per session is close to 1.\n",
    " - The median number of product purchases per session is 1.\n",
    " - From the histogram as well, we can see that the maximum number of cart additions per session is concentrated between 1 and 3."
   ]
  },
  {
   "cell_type": "markdown",
   "id": "d7458443",
   "metadata": {},
   "source": [
    "#### Distribution of unique product purchases per session"
   ]
  },
  {
   "cell_type": "code",
   "execution_count": 18,
   "id": "ecb6f46a",
   "metadata": {},
   "outputs": [
    {
     "name": "stdout",
     "output_type": "stream",
     "text": [
      "1.1229183853646534\n",
      "1.0\n"
     ]
    }
   ],
   "source": [
    "purchase_per_sess = clickstream_df[clickstream_df['event_type']=='purchase'].groupby(['user_session'])[['product_id']].nunique()\n",
    "print(purchase_per_sess['product_id'].mean())\n",
    "print(purchase_per_sess['product_id'].median())"
   ]
  },
  {
   "cell_type": "code",
   "execution_count": 19,
   "id": "44743d74",
   "metadata": {},
   "outputs": [
    {
     "data": {
      "image/png": "[encoded data removed]",
      "text/plain": [
       "<Figure size 640x480 with 1 Axes>"
      ]
     },
     "metadata": {},
     "output_type": "display_data"
    }
   ],
   "source": [
    "sns.histplot(purchase_per_sess[purchase_per_sess['product_id']<10]['product_id'], binwidth = 1)\n",
    "plt.xlabel(\"Number of Product Cart Additions (NCartAddtition)\")\n",
    "plt.ylabel(\"Count of Number of Sessions with NCartAddtition\")\n",
    "plt.show()"
   ]
  },
  {
   "cell_type": "markdown",
   "id": "b10c6f2f",
   "metadata": {},
   "source": [
    " - So we see that the average number of product purchases per session is close to 1.\n",
    " - The median number of product views per session is 1.\n",
    " - From the histogram as well, we can see that the maximum number of purchases per session is concentrated between 1 and 3."
   ]
  },
  {
   "cell_type": "markdown",
   "id": "c128664b",
   "metadata": {},
   "source": [
    "### Number of user sessions with at more than 1 unique event for each event type"
   ]
  },
  {
   "cell_type": "markdown",
   "id": "ddc06c06",
   "metadata": {},
   "source": [
    "We already saw from our past analysis that the number of unique sessions for every event type with at least 1 event was as follows :\n",
    "\n",
    "       - Added To Cart : 1.5+ million\n",
    "       - Purchased : 690K\n",
    "       - Viewed : 13.75+ million\n",
    "\n",
    " We will now look at sessions which had more than 1 unique event for each event type."
   ]
  },
  {
   "cell_type": "code",
   "execution_count": 20,
   "id": "993fe2e5",
   "metadata": {},
   "outputs": [
    {
     "name": "stdout",
     "output_type": "stream",
     "text": [
      "No. of unique session with more than 1 product view 5340115\n",
      "No. of unique session with more than 1 product cart addition 176004\n",
      "No. of unique session with more than 1 product purchase 64473\n"
     ]
    }
   ],
   "source": [
    "print(\"No. of unique session with more than 1 product view\",len(views_per_sess[views_per_sess['product_id']>1]))\n",
    "print(\"No. of unique session with more than 1 product cart addition\",len(cart_per_sess[cart_per_sess['product_id']>1]))\n",
    "print(\"No. of unique session with more than 1 product purchase\",len(purchase_per_sess[purchase_per_sess['product_id']>1]))\n"
   ]
  },
  {
   "cell_type": "markdown",
   "id": "792ca8df",
   "metadata": {},
   "source": [
    "So, the number of sessions which had more than 1 unique event for each event type can be summarized as follows:  \n",
    "\n",
    "       - Added To Cart : 176K\n",
    "       - Purchased : 64.4K\n",
    "       - Viewed : 5.34+ million"
   ]
  },
  {
   "cell_type": "markdown",
   "id": "99db34df",
   "metadata": {},
   "source": [
    "## Summary of Insights from EDA\n",
    "\n",
    " - Most of our events are views. There are :\n",
    "\n",
    "      - Around 52.5 million views\n",
    "      - Around 2.6 million add-to-cart events\n",
    "      - Around 835K purchases\n",
    "    \n",
    " - For views, we have a lot of unique sessions as compared to unique users or products. For purchases and add to car events, the difference is less stark. \n",
    " \n",
    " - Views Per Session : \n",
    " \n",
    "       - The average number of product views per session is between 2 and 3.\n",
    "       - The median number of product views per session is 1.\n",
    "     \n",
    " - Cart Additions Per Session : \n",
    " \n",
    "       - The average number of product cart additions per session is close to 1.\n",
    "       - The median number of product cart additions per session is 1.\n",
    "     \n",
    " - Purchases Per Session : \n",
    " \n",
    "       - The average number of product purchases per session is close to 1.\n",
    "       - The median number of product purchases per session is 1.\n",
    "     \n",
    " - The number of unique sessions for every event type with at least 1 event was as follows :\n",
    " \n",
    "       - Added To Cart : 1.5+ million\n",
    "       - Purchased : 690K\n",
    "       - Viewed : 13.75+ million\n",
    "       \n",
    " - The number of sessions which had more than 1 unique event for each event type can be summarized as follows:  \n",
    "\n",
    "       - Added To Cart : 176K\n",
    "       - Purchased : 64.4K\n",
    "       - Viewed : 5.34+ million"
   ]
  },
  {
   "cell_type": "markdown",
   "id": "de86202f",
   "metadata": {},
   "source": [
    "## Constructing the Graphs"
   ]
  },
  {
   "attachments": {
    "graphconstruction.png": {
     "image/png": "[encoded data removed]"
    }
   },
   "cell_type": "markdown",
   "id": "b7db9cce",
   "metadata": {},
   "source": [
    "We will now try and contruct the co-occurrence graphs for user journey across the various event types using our clickstream data. To understand that, take a look at the dummy example below (with the example of characters from The Office :D )\n",
    "\n",
    "![graphconstruction.png](attachment:graphconstruction.png)\n",
    "\n",
    " - Michael has viewed some items like TV A, then TV B and Light Bulb, then Table Lamp across two sessions. \n",
    " - Pam has viewed TV A, followed by Stereo X followed by Stereo Y in one session.\n",
    " - Dwight has viewed TV B followed by Ear Phone and TV B followed by Light Bulb in two sessions.\n",
    " - Jim has viewed Ear Phone, followed by Stereo Y followed by Stereo Z in one session. \n",
    " \n",
    "The graph on the right shows what the user journey graph might look like, if we constructed it from this dummy clickstream data. We do not have same product in succession in each of the sessions, since we do not really want self loops in the graph for now."
   ]
  },
  {
   "cell_type": "markdown",
   "id": "02ab24b0",
   "metadata": {},
   "source": [
    " ### Graphs for Product Views\n",
    " \n",
    "Let us say we wanted to show Michael the latest releases in flat screen ultra HD TVs, while he was currently viewing some related products like TVs and Monitors. In this case, we would perhaps need to look at the co-occurrence graph for views. We will first contruct the graph for views.\n",
    " \n",
    "For this purpose we shall consider sessions with more than 1 views. Let us first get those sessions."
   ]
  },
  {
   "cell_type": "code",
   "execution_count": 21,
   "id": "f5e2e9bf",
   "metadata": {},
   "outputs": [],
   "source": [
    "clickstream_df['event_time'] = clickstream_df['event_time'].str.rstrip('UTC')\n",
    "clickstream_df['event_time'] = pd.to_datetime(clickstream_df['event_time'])\n",
    "\n",
    "views = clickstream_df[clickstream_df['event_type']=='view']\n",
    "cart = clickstream_df[clickstream_df['event_type']=='cart']\n",
    "purchase = clickstream_df[clickstream_df['event_type']=='purchase']"
   ]
  },
  {
   "cell_type": "code",
   "execution_count": 22,
   "id": "ed981916",
   "metadata": {},
   "outputs": [],
   "source": [
    "# Sessions with more than 1 unique views\n",
    "unique_views_sessions = views_per_sess[views_per_sess['product_id']>1].reset_index()['user_session'].values\n",
    "\n",
    "# Getting entries corresponding to the sessions obtained above\n",
    "unique_views = views.loc[views['user_session'].isin(unique_views_sessions)][['user_id', 'product_id', 'event_time', 'user_session']]"
   ]
  },
  {
   "cell_type": "markdown",
   "id": "a55a062a",
   "metadata": {},
   "source": [
    "Let us look at the example of a single session and what it would look like if we were to construct a graph on it."
   ]
  },
  {
   "cell_type": "code",
   "execution_count": 23,
   "id": "76a1bdac",
   "metadata": {
    "scrolled": false
   },
   "outputs": [
    {
     "data": {
      "text/html": [
       "<div>\n",
       "<style scoped>\n",
       "    .dataframe tbody tr th:only-of-type {\n",
       "        vertical-align: middle;\n",
       "    }\n",
       "\n",
       "    .dataframe tbody tr th {\n",
       "        vertical-align: top;\n",
       "    }\n",
       "\n",
       "    .dataframe thead th {\n",
       "        text-align: right;\n",
       "    }\n",
       "</style>\n",
       "<table border=\"1\" class=\"dataframe\">\n",
       "  <thead>\n",
       "    <tr style=\"text-align: right;\">\n",
       "      <th></th>\n",
       "      <th>user_id</th>\n",
       "      <th>product_id</th>\n",
       "      <th>event_time</th>\n",
       "      <th>user_session</th>\n",
       "    </tr>\n",
       "  </thead>\n",
       "  <tbody>\n",
       "    <tr>\n",
       "      <th>53270207</th>\n",
       "      <td>605295014</td>\n",
       "      <td>3700926</td>\n",
       "      <td>2020-01-30 16:37:20</td>\n",
       "      <td>60847f01-db4d-4a73-a11a-8034e177e006</td>\n",
       "    </tr>\n",
       "    <tr>\n",
       "      <th>53270766</th>\n",
       "      <td>605295014</td>\n",
       "      <td>3700677</td>\n",
       "      <td>2020-01-30 16:37:36</td>\n",
       "      <td>60847f01-db4d-4a73-a11a-8034e177e006</td>\n",
       "    </tr>\n",
       "    <tr>\n",
       "      <th>53274015</th>\n",
       "      <td>605295014</td>\n",
       "      <td>3701241</td>\n",
       "      <td>2020-01-30 16:39:04</td>\n",
       "      <td>60847f01-db4d-4a73-a11a-8034e177e006</td>\n",
       "    </tr>\n",
       "    <tr>\n",
       "      <th>53276984</th>\n",
       "      <td>605295014</td>\n",
       "      <td>3701241</td>\n",
       "      <td>2020-01-30 16:40:26</td>\n",
       "      <td>60847f01-db4d-4a73-a11a-8034e177e006</td>\n",
       "    </tr>\n",
       "    <tr>\n",
       "      <th>53286940</th>\n",
       "      <td>605295014</td>\n",
       "      <td>3701190</td>\n",
       "      <td>2020-01-30 16:44:43</td>\n",
       "      <td>60847f01-db4d-4a73-a11a-8034e177e006</td>\n",
       "    </tr>\n",
       "    <tr>\n",
       "      <th>53291977</th>\n",
       "      <td>605295014</td>\n",
       "      <td>100067814</td>\n",
       "      <td>2020-01-30 16:46:56</td>\n",
       "      <td>60847f01-db4d-4a73-a11a-8034e177e006</td>\n",
       "    </tr>\n",
       "    <tr>\n",
       "      <th>53292418</th>\n",
       "      <td>605295014</td>\n",
       "      <td>100067814</td>\n",
       "      <td>2020-01-30 16:47:10</td>\n",
       "      <td>60847f01-db4d-4a73-a11a-8034e177e006</td>\n",
       "    </tr>\n",
       "    <tr>\n",
       "      <th>53295764</th>\n",
       "      <td>605295014</td>\n",
       "      <td>3700557</td>\n",
       "      <td>2020-01-30 16:48:40</td>\n",
       "      <td>60847f01-db4d-4a73-a11a-8034e177e006</td>\n",
       "    </tr>\n",
       "    <tr>\n",
       "      <th>53296705</th>\n",
       "      <td>605295014</td>\n",
       "      <td>3700557</td>\n",
       "      <td>2020-01-30 16:49:03</td>\n",
       "      <td>60847f01-db4d-4a73-a11a-8034e177e006</td>\n",
       "    </tr>\n",
       "    <tr>\n",
       "      <th>53299822</th>\n",
       "      <td>605295014</td>\n",
       "      <td>3700557</td>\n",
       "      <td>2020-01-30 16:50:28</td>\n",
       "      <td>60847f01-db4d-4a73-a11a-8034e177e006</td>\n",
       "    </tr>\n",
       "    <tr>\n",
       "      <th>53300857</th>\n",
       "      <td>605295014</td>\n",
       "      <td>3701104</td>\n",
       "      <td>2020-01-30 16:50:55</td>\n",
       "      <td>60847f01-db4d-4a73-a11a-8034e177e006</td>\n",
       "    </tr>\n",
       "    <tr>\n",
       "      <th>53301934</th>\n",
       "      <td>605295014</td>\n",
       "      <td>100065773</td>\n",
       "      <td>2020-01-30 16:51:23</td>\n",
       "      <td>60847f01-db4d-4a73-a11a-8034e177e006</td>\n",
       "    </tr>\n",
       "    <tr>\n",
       "      <th>53302142</th>\n",
       "      <td>605295014</td>\n",
       "      <td>100065773</td>\n",
       "      <td>2020-01-30 16:51:29</td>\n",
       "      <td>60847f01-db4d-4a73-a11a-8034e177e006</td>\n",
       "    </tr>\n",
       "    <tr>\n",
       "      <th>53302441</th>\n",
       "      <td>605295014</td>\n",
       "      <td>100065773</td>\n",
       "      <td>2020-01-30 16:51:37</td>\n",
       "      <td>60847f01-db4d-4a73-a11a-8034e177e006</td>\n",
       "    </tr>\n",
       "    <tr>\n",
       "      <th>53305158</th>\n",
       "      <td>605295014</td>\n",
       "      <td>100017448</td>\n",
       "      <td>2020-01-30 16:52:51</td>\n",
       "      <td>60847f01-db4d-4a73-a11a-8034e177e006</td>\n",
       "    </tr>\n",
       "    <tr>\n",
       "      <th>53307794</th>\n",
       "      <td>605295014</td>\n",
       "      <td>3700278</td>\n",
       "      <td>2020-01-30 16:54:01</td>\n",
       "      <td>60847f01-db4d-4a73-a11a-8034e177e006</td>\n",
       "    </tr>\n",
       "  </tbody>\n",
       "</table>\n",
       "</div>"
      ],
      "text/plain": [
       "            user_id  product_id          event_time  \\\n",
       "53270207  605295014     3700926 2020-01-30 16:37:20   \n",
       "53270766  605295014     3700677 2020-01-30 16:37:36   \n",
       "53274015  605295014     3701241 2020-01-30 16:39:04   \n",
       "53276984  605295014     3701241 2020-01-30 16:40:26   \n",
       "53286940  605295014     3701190 2020-01-30 16:44:43   \n",
       "53291977  605295014   100067814 2020-01-30 16:46:56   \n",
       "53292418  605295014   100067814 2020-01-30 16:47:10   \n",
       "53295764  605295014     3700557 2020-01-30 16:48:40   \n",
       "53296705  605295014     3700557 2020-01-30 16:49:03   \n",
       "53299822  605295014     3700557 2020-01-30 16:50:28   \n",
       "53300857  605295014     3701104 2020-01-30 16:50:55   \n",
       "53301934  605295014   100065773 2020-01-30 16:51:23   \n",
       "53302142  605295014   100065773 2020-01-30 16:51:29   \n",
       "53302441  605295014   100065773 2020-01-30 16:51:37   \n",
       "53305158  605295014   100017448 2020-01-30 16:52:51   \n",
       "53307794  605295014     3700278 2020-01-30 16:54:01   \n",
       "\n",
       "                                  user_session  \n",
       "53270207  60847f01-db4d-4a73-a11a-8034e177e006  \n",
       "53270766  60847f01-db4d-4a73-a11a-8034e177e006  \n",
       "53274015  60847f01-db4d-4a73-a11a-8034e177e006  \n",
       "53276984  60847f01-db4d-4a73-a11a-8034e177e006  \n",
       "53286940  60847f01-db4d-4a73-a11a-8034e177e006  \n",
       "53291977  60847f01-db4d-4a73-a11a-8034e177e006  \n",
       "53292418  60847f01-db4d-4a73-a11a-8034e177e006  \n",
       "53295764  60847f01-db4d-4a73-a11a-8034e177e006  \n",
       "53296705  60847f01-db4d-4a73-a11a-8034e177e006  \n",
       "53299822  60847f01-db4d-4a73-a11a-8034e177e006  \n",
       "53300857  60847f01-db4d-4a73-a11a-8034e177e006  \n",
       "53301934  60847f01-db4d-4a73-a11a-8034e177e006  \n",
       "53302142  60847f01-db4d-4a73-a11a-8034e177e006  \n",
       "53302441  60847f01-db4d-4a73-a11a-8034e177e006  \n",
       "53305158  60847f01-db4d-4a73-a11a-8034e177e006  \n",
       "53307794  60847f01-db4d-4a73-a11a-8034e177e006  "
      ]
     },
     "execution_count": 23,
     "metadata": {},
     "output_type": "execute_result"
    }
   ],
   "source": [
    "unique_views[unique_views['user_session'] == '60847f01-db4d-4a73-a11a-8034e177e006']"
   ]
  },
  {
   "cell_type": "markdown",
   "id": "0545883a",
   "metadata": {},
   "source": [
    "#### Getting the next product "
   ]
  },
  {
   "cell_type": "code",
   "execution_count": 24,
   "id": "ee9f7890",
   "metadata": {},
   "outputs": [],
   "source": [
    "unique_views['next_product_id'] = unique_views.sort_values(by = 'event_time').groupby('user_session')['product_id'].shift(-1, fill_value=-1)\n",
    "order_cols = ['user_id','product_id','next_product_id','event_time','user_session']\n",
    "unique_views = unique_views[order_cols]"
   ]
  },
  {
   "cell_type": "markdown",
   "id": "6fbf6cfd",
   "metadata": {},
   "source": [
    "#### An example sub graphs for a user session"
   ]
  },
  {
   "cell_type": "code",
   "execution_count": 25,
   "id": "2505fad7",
   "metadata": {},
   "outputs": [
    {
     "data": {
      "image/png": "[encoded data removed]",
      "text/plain": [
       "<Figure size 640x480 with 1 Axes>"
      ]
     },
     "metadata": {},
     "output_type": "display_data"
    }
   ],
   "source": [
    "example = unique_views[unique_views['user_session'] == '60847f01-db4d-4a73-a11a-8034e177e006']\n",
    "example = example[(example['next_product_id'] != example['product_id']) & (example['next_product_id'] != -1)]\n",
    "edge_list = [[x[0], x[1]] for x in example[['product_id', 'next_product_id']].to_numpy()]\n",
    "\n",
    "\n",
    "G = nx.Graph()\n",
    "G.add_edges_from(edge_list)\n",
    "nx.draw(G, with_labels=True)\n",
    "plt.show()"
   ]
  },
  {
   "cell_type": "markdown",
   "id": "bce28380",
   "metadata": {},
   "source": [
    "#### Directed, Unweighted Graph for Views"
   ]
  },
  {
   "cell_type": "code",
   "execution_count": 26,
   "id": "7523f951",
   "metadata": {},
   "outputs": [
    {
     "name": "stdout",
     "output_type": "stream",
     "text": [
      "25876392\n"
     ]
    }
   ],
   "source": [
    "dir_unweight_graph_views = unique_views[(unique_views['next_product_id'] != unique_views['product_id']) & (unique_views['next_product_id'] != -1)]\n",
    "dir_unweight_graph_views = dir_unweight_graph_views[['product_id', 'next_product_id']]\n",
    "print(len(dir_unweight_graph_views))\n",
    "dir_unweight_graph_views.to_parquet('../Data/Graphs/dir_unweight_graph_views.parquet',index=False)"
   ]
  },
  {
   "cell_type": "markdown",
   "id": "3eb81e66",
   "metadata": {},
   "source": [
    "#### Directed, Weighted Graph for Views"
   ]
  },
  {
   "cell_type": "code",
   "execution_count": 27,
   "id": "17678967",
   "metadata": {},
   "outputs": [
    {
     "name": "stdout",
     "output_type": "stream",
     "text": [
      "8415223\n"
     ]
    }
   ],
   "source": [
    "dir_weight_graph_views = unique_views[(unique_views['next_product_id'] != unique_views['product_id']) & (unique_views['next_product_id'] != -1)]\n",
    "dir_weight_graph_views = dir_weight_graph_views.groupby(['product_id','next_product_id'])[['event_time']].count().reset_index()\n",
    "dir_weight_graph_views = dir_weight_graph_views[['product_id', 'next_product_id','event_time']].rename(columns={'event_time':'count'})\n",
    "print(len(dir_weight_graph_views))\n",
    "dir_weight_graph_views.to_parquet('../Data/Graphs/dir_weight_graph_views.parquet',index=False)\n"
   ]
  },
  {
   "cell_type": "markdown",
   "id": "7f99a231",
   "metadata": {},
   "source": [
    "#### Undirected, Weighted Graph for Views"
   ]
  },
  {
   "cell_type": "code",
   "execution_count": 28,
   "id": "c222b5ed",
   "metadata": {},
   "outputs": [
    {
     "name": "stdout",
     "output_type": "stream",
     "text": [
      "6844525\n"
     ]
    }
   ],
   "source": [
    "pd.set_option('mode.chained_assignment', None)\n",
    "undir_weight_graph_views = unique_views[(unique_views['next_product_id'] != unique_views['product_id']) & (unique_views['next_product_id'] != -1)]\n",
    "undir_weight_graph_views['product_id1'] = np.where(undir_weight_graph_views['product_id']>undir_weight_graph_views['next_product_id'], \n",
    "                                                   undir_weight_graph_views['product_id'],\n",
    "                                                   undir_weight_graph_views['next_product_id'])\n",
    "\n",
    "undir_weight_graph_views['product_id2'] = np.where(undir_weight_graph_views['product_id']<undir_weight_graph_views['next_product_id'], \n",
    "                                                   undir_weight_graph_views['product_id'],\n",
    "                                                   undir_weight_graph_views['next_product_id'])\n",
    "\n",
    "undir_weight_graph_views = undir_weight_graph_views[['product_id1', 'product_id2','event_time']].rename(columns={'event_time':'count'})\n",
    "undir_weight_graph_views = undir_weight_graph_views.groupby(['product_id1','product_id2'])[['count']].count().reset_index()\n",
    "\n",
    "print(len(undir_weight_graph_views))\n",
    "undir_weight_graph_views.to_parquet('../Data/Graphs/undir_weight_graph_views.parquet',index=False)\n"
   ]
  },
  {
   "cell_type": "markdown",
   "id": "1373ad72",
   "metadata": {},
   "source": [
    "### Graphs for Product Purchases\n",
    "\n",
    "Now let's say Pam purchased a Monitor. Perhaps we also want to recommend a keyboard, a mouse and a headphone to her ? Maybe she is planning to set up a workstation. In this case, we would want to construct our graph from purchase data. "
   ]
  },
  {
   "cell_type": "code",
   "execution_count": 29,
   "id": "9102c7ac",
   "metadata": {},
   "outputs": [],
   "source": [
    "# Sessions with more than 1 unique purchases\n",
    "unique_purchases_sessions = purchase_per_sess[purchase_per_sess['product_id']>1].reset_index()['user_session'].values\n",
    "\n",
    "# Getting entries corresponding to the sessions obtained above\n",
    "unique_purchases = purchase.loc[purchase['user_session'].isin(unique_purchases_sessions)][['user_id', 'product_id', 'event_time', 'user_session']]\n",
    "\n",
    "\n",
    "# Getting next product\n",
    "unique_purchases['next_product_id'] = unique_purchases.sort_values(by = 'event_time').groupby('user_session')['product_id'].shift(-1, fill_value=-1)\n",
    "unique_purchases = unique_purchases[order_cols]\n"
   ]
  },
  {
   "cell_type": "markdown",
   "id": "ef6c3ed3",
   "metadata": {},
   "source": [
    "#### Directed, Unweighted Graph for Purchases"
   ]
  },
  {
   "cell_type": "code",
   "execution_count": 30,
   "id": "ec9d97c4",
   "metadata": {},
   "outputs": [
    {
     "name": "stdout",
     "output_type": "stream",
     "text": [
      "86980\n"
     ]
    }
   ],
   "source": [
    "dir_unweight_graph_purchases = unique_purchases[(unique_purchases['next_product_id'] != unique_purchases['product_id']) & (unique_purchases['next_product_id'] != -1)]\n",
    "dir_unweight_graph_purchases = dir_unweight_graph_purchases[['product_id', 'next_product_id']]\n",
    "print(len(dir_unweight_graph_purchases))\n",
    "dir_unweight_graph_purchases.to_parquet('../Data/Graphs/dir_unweight_graph_purchases.parquet',index=False)\n"
   ]
  },
  {
   "cell_type": "markdown",
   "id": "5efc86e2",
   "metadata": {},
   "source": [
    "#### Directed, Weighted Graph for Purchases"
   ]
  },
  {
   "cell_type": "code",
   "execution_count": 31,
   "id": "b7b47ff4",
   "metadata": {},
   "outputs": [
    {
     "name": "stdout",
     "output_type": "stream",
     "text": [
      "53733\n"
     ]
    }
   ],
   "source": [
    "dir_weight_graph_purchases = unique_purchases[(unique_purchases['next_product_id'] != unique_purchases['product_id']) & (unique_purchases['next_product_id'] != -1)]\n",
    "dir_weight_graph_purchases = dir_weight_graph_purchases.groupby(['product_id','next_product_id'])[['event_time']].count().reset_index()\n",
    "dir_weight_graph_purchases = dir_weight_graph_purchases[['product_id', 'next_product_id','event_time']].rename(columns={'event_time':'count'})\n",
    "print(len(dir_weight_graph_purchases))\n",
    "dir_weight_graph_purchases.to_parquet('../Data/Graphs/dir_weight_graph_purchases.parquet',index=False)\n"
   ]
  },
  {
   "cell_type": "markdown",
   "id": "3100527e",
   "metadata": {},
   "source": [
    "#### Undirected, Weighted Graph for Purchases"
   ]
  },
  {
   "cell_type": "code",
   "execution_count": 32,
   "id": "0d4c4757",
   "metadata": {},
   "outputs": [
    {
     "name": "stdout",
     "output_type": "stream",
     "text": [
      "49328\n"
     ]
    }
   ],
   "source": [
    "undir_weight_graph_purchases = unique_purchases[(unique_purchases['next_product_id'] != unique_purchases['product_id']) & (unique_purchases['next_product_id'] != -1)]\n",
    "undir_weight_graph_purchases['product_id1'] = np.where(undir_weight_graph_purchases['product_id']>undir_weight_graph_purchases['next_product_id'], \n",
    "                                                   undir_weight_graph_purchases['product_id'],\n",
    "                                                   undir_weight_graph_purchases['next_product_id'])\n",
    "\n",
    "undir_weight_graph_purchases['product_id2'] = np.where(undir_weight_graph_purchases['product_id']<undir_weight_graph_purchases['next_product_id'], \n",
    "                                                   undir_weight_graph_purchases['product_id'],\n",
    "                                                   undir_weight_graph_purchases['next_product_id'])\n",
    "\n",
    "undir_weight_graph_purchases = undir_weight_graph_purchases[['product_id1', 'product_id2','event_time']].rename(columns={'event_time':'count'})\n",
    "undir_weight_graph_purchases = undir_weight_graph_purchases.groupby(['product_id1','product_id2'])[['count']].count().reset_index()\n",
    "\n",
    "print(len(undir_weight_graph_purchases))\n",
    "undir_weight_graph_purchases.to_parquet('../Data/Graphs/undir_weight_graph_purchases.parquet',index=False)\n"
   ]
  },
  {
   "cell_type": "markdown",
   "id": "7a7615fe",
   "metadata": {},
   "source": [
    "### Graphs for Product Cart Additions"
   ]
  },
  {
   "cell_type": "code",
   "execution_count": 33,
   "id": "29ece9eb",
   "metadata": {},
   "outputs": [],
   "source": [
    "# Sessions with more than 1 unique purchases\n",
    "unique_cart_sessions = cart_per_sess[cart_per_sess['product_id']>1].reset_index()['user_session'].values\n",
    "\n",
    "# Getting entries corresponding to the sessions obtained above\n",
    "unique_cart = cart.loc[cart['user_session'].isin(unique_cart_sessions)][['user_id', 'product_id', 'event_time', 'user_session']]\n",
    "\n",
    "\n",
    "# Getting next product\n",
    "unique_cart['next_product_id'] = unique_cart.sort_values(by = 'event_time').groupby('user_session')['product_id'].shift(-1, fill_value=-1)\n",
    "unique_cart = unique_cart[order_cols]\n"
   ]
  },
  {
   "cell_type": "markdown",
   "id": "4bd75c97",
   "metadata": {},
   "source": [
    "#### Directed, Unweighted Graph for Purchases"
   ]
  },
  {
   "cell_type": "code",
   "execution_count": 34,
   "id": "0eb3c3c4",
   "metadata": {},
   "outputs": [
    {
     "name": "stdout",
     "output_type": "stream",
     "text": [
      "252503\n"
     ]
    }
   ],
   "source": [
    "dir_unweight_graph_cart = unique_cart[(unique_cart['next_product_id'] != unique_cart['product_id']) & (unique_cart['next_product_id'] != -1)]\n",
    "dir_unweight_graph_cart = dir_unweight_graph_cart[['product_id', 'next_product_id']]\n",
    "print(len(dir_unweight_graph_cart))\n",
    "dir_unweight_graph_cart.to_parquet('../Data/Graphs/dir_unweight_graph_cart.parquet',index=False)\n"
   ]
  },
  {
   "cell_type": "markdown",
   "id": "0cadbc51",
   "metadata": {},
   "source": [
    "#### Directed, Weighted Graph for Purchases"
   ]
  },
  {
   "cell_type": "code",
   "execution_count": 35,
   "id": "16938b74",
   "metadata": {},
   "outputs": [
    {
     "name": "stdout",
     "output_type": "stream",
     "text": [
      "149766\n"
     ]
    }
   ],
   "source": [
    "dir_weight_graph_cart = unique_cart[(unique_cart['next_product_id'] != unique_cart['product_id']) & (unique_cart['next_product_id'] != -1)]\n",
    "dir_weight_graph_cart = dir_weight_graph_cart.groupby(['product_id','next_product_id'])[['event_time']].count().reset_index()\n",
    "dir_weight_graph_cart = dir_weight_graph_cart[['product_id', 'next_product_id','event_time']].rename(columns={'event_time':'count'})\n",
    "print(len(dir_weight_graph_cart))\n",
    "dir_weight_graph_cart.to_parquet('../Data/Graphs/dir_weight_graph_cart.parquet',index=False)\n"
   ]
  },
  {
   "cell_type": "markdown",
   "id": "62b9df52",
   "metadata": {},
   "source": [
    "#### Undirected, Weighted Graph for Purchases"
   ]
  },
  {
   "cell_type": "code",
   "execution_count": 36,
   "id": "6aa756a3",
   "metadata": {},
   "outputs": [
    {
     "name": "stdout",
     "output_type": "stream",
     "text": [
      "131783\n"
     ]
    }
   ],
   "source": [
    "undir_weight_graph_cart = unique_cart[(unique_cart['next_product_id'] != unique_cart['product_id']) & (unique_cart['next_product_id'] != -1)]\n",
    "undir_weight_graph_cart['product_id1'] = np.where(undir_weight_graph_cart['product_id']>undir_weight_graph_cart['next_product_id'], \n",
    "                                                   undir_weight_graph_cart['product_id'],\n",
    "                                                   undir_weight_graph_cart['next_product_id'])\n",
    "\n",
    "undir_weight_graph_cart['product_id2'] = np.where(undir_weight_graph_cart['product_id']<undir_weight_graph_cart['next_product_id'], \n",
    "                                                   undir_weight_graph_cart['product_id'],\n",
    "                                                   undir_weight_graph_cart['next_product_id'])\n",
    "\n",
    "undir_weight_graph_cart = undir_weight_graph_cart[['product_id1', 'product_id2','event_time']].rename(columns={'event_time':'count'})\n",
    "undir_weight_graph_cart = undir_weight_graph_cart.groupby(['product_id1','product_id2'])[['count']].count().reset_index()\n",
    "\n",
    "print(len(undir_weight_graph_cart))\n",
    "undir_weight_graph_cart.to_parquet('../Data/Graphs/undir_weight_graph_cart.parquet',index=False)\n"
   ]
  },
  {
   "cell_type": "markdown",
   "id": "5ac82a75",
   "metadata": {},
   "source": [
    "So now we are done with graph creation. We have saved our graphs (directed & unweighted, directed & weighted, undirected & weighted) for the three event types : views, purchases and cart additions."
   ]
  },
  {
   "cell_type": "markdown",
   "id": "fbce0767",
   "metadata": {},
   "source": [
    "#### End"
   ]
  }
 ],
 "metadata": {
  "kernelspec": {
   "display_name": "Python 3 (ipykernel)",
   "language": "python",
   "name": "python3"
  },
  "language_info": {
   "codemirror_mode": {
    "name": "ipython",
    "version": 3
   },
   "file_extension": ".py",
   "mimetype": "text/x-python",
   "name": "python",
   "nbconvert_exporter": "python",
   "pygments_lexer": "ipython3",
   "version": "3.9.6"
  }
 },
 "nbformat": 4,
 "nbformat_minor": 5
}
